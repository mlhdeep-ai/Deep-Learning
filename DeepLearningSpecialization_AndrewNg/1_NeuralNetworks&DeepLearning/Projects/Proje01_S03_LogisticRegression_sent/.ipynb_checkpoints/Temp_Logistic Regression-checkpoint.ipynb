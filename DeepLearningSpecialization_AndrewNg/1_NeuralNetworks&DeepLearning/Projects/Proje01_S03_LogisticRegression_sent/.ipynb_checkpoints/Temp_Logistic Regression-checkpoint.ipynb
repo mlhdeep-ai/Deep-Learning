{
 "cells": [
  {
   "cell_type": "markdown",
   "metadata": {},
   "source": [
    "## Project 1- Logistic Regression with a Neural Network "
   ]
  },
  {
   "cell_type": "markdown",
   "metadata": {},
   "source": [
    "### 0. Import Libraries"
   ]
  },
  {
   "cell_type": "code",
   "execution_count": 32,
   "metadata": {},
   "outputs": [],
   "source": [
    "import numpy as np\n",
    "import matplotlib.pyplot as plt\n",
    "import h5py\n",
    "import scipy\n",
    "from PIL import Image\n",
    "from scipy import ndimage\n",
    "from lr_utils import load_dataset\n",
    "\n",
    "%matplotlib inline"
   ]
  },
  {
   "cell_type": "markdown",
   "metadata": {},
   "source": [
    "### 1. Load Data"
   ]
  },
  {
   "cell_type": "code",
   "execution_count": 47,
   "metadata": {},
   "outputs": [],
   "source": [
    "train_set_x_orig, train_set_y, test_set_x_orig, test_set_y, classes = load_dataset()"
   ]
  },
  {
   "cell_type": "code",
   "execution_count": 34,
   "metadata": {},
   "outputs": [
    {
     "name": "stdout",
     "output_type": "stream",
     "text": [
      "y = [1], it's a 'cat' picture.\n"
     ]
    },
    {
     "data": {
      "image/png": "[encoded data removed]",
      "text/plain": [
       "<Figure size 640x480 with 1 Axes>"
      ]
     },
     "metadata": {},
     "output_type": "display_data"
    }
   ],
   "source": [
    "# Example of a picture\n",
    "index = 25\n",
    "plt.imshow(train_set_x_orig[index])\n",
    "print (\"y = \" + str(train_set_y[:, index]) + \", it's a '\" + classes[np.squeeze(train_set_y[:, index])].decode(\"utf-8\") +  \"' picture.\")"
   ]
  },
  {
   "cell_type": "code",
   "execution_count": 35,
   "metadata": {},
   "outputs": [
    {
     "data": {
      "text/plain": [
       "(1, 209)"
      ]
     },
     "execution_count": 35,
     "metadata": {},
     "output_type": "execute_result"
    }
   ],
   "source": [
    "train_set_y.shape"
   ]
  },
  {
   "cell_type": "code",
   "execution_count": 36,
   "metadata": {},
   "outputs": [
    {
     "name": "stdout",
     "output_type": "stream",
     "text": [
      "[[0 0 1 0 0 0 0 1 0 0 0 1 0 1 1 0 0 0 0 1 0 0 0 0 1 1 0 1 0 1 0 0 0 0 0 0\n",
      "  0 0 1 0 0 1 1 0 0 0 0 1 0 0 1 0 0 0 1 0 1 1 0 1 1 1 0 0 0 0 0 0 1 0 0 1\n",
      "  0 0 0 0 0 0 0 0 0 0 0 1 1 0 0 0 1 0 0 0 1 1 1 0 0 1 0 0 0 0 1 0 1 0 1 1\n",
      "  1 1 1 1 0 0 0 0 0 1 0 0 0 1 0 0 1 0 1 0 1 1 0 0 0 1 1 1 1 1 0 0 0 0 1 0\n",
      "  1 1 1 0 1 1 0 0 0 1 0 0 1 0 0 0 0 0 1 0 1 0 1 0 0 1 1 1 0 0 1 1 0 1 0 1\n",
      "  0 0 0 0 0 1 0 0 1 0 0 0 1 0 0 0 0 1 0 0 1 0 0 0 0 0 0 0 0]]\n"
     ]
    }
   ],
   "source": [
    "print(train_set_y)"
   ]
  },
  {
   "cell_type": "code",
   "execution_count": 7,
   "metadata": {},
   "outputs": [
    {
     "data": {
      "text/plain": [
       "(2,)"
      ]
     },
     "execution_count": 7,
     "metadata": {},
     "output_type": "execute_result"
    }
   ],
   "source": [
    "classes.shape"
   ]
  },
  {
   "cell_type": "code",
   "execution_count": 37,
   "metadata": {},
   "outputs": [
    {
     "name": "stdout",
     "output_type": "stream",
     "text": [
      "[b'non-cat' b'cat']\n"
     ]
    }
   ],
   "source": [
    "print(classes)"
   ]
  },
  {
   "cell_type": "code",
   "execution_count": 43,
   "metadata": {},
   "outputs": [
    {
     "data": {
      "text/plain": [
       "array([b'cat'], dtype='|S7')"
      ]
     },
     "execution_count": 43,
     "metadata": {},
     "output_type": "execute_result"
    }
   ],
   "source": [
    "classes[train_set_y[:, index]]"
   ]
  },
  {
   "cell_type": "code",
   "execution_count": 44,
   "metadata": {},
   "outputs": [
    {
     "data": {
      "text/plain": [
       "b'cat'"
      ]
     },
     "execution_count": 44,
     "metadata": {},
     "output_type": "execute_result"
    }
   ],
   "source": [
    "classes[np.squeeze(train_set_y[:, index])]"
   ]
  },
  {
   "cell_type": "code",
   "execution_count": 45,
   "metadata": {},
   "outputs": [
    {
     "data": {
      "text/plain": [
       "'cat'"
      ]
     },
     "execution_count": 45,
     "metadata": {},
     "output_type": "execute_result"
    }
   ],
   "source": [
    "classes[np.squeeze(train_set_y[:, index])].decode(\"utf-8\")"
   ]
  },
  {
   "cell_type": "code",
   "execution_count": 16,
   "metadata": {
    "collapsed": true,
    "jupyter": {
     "outputs_hidden": true
    }
   },
   "outputs": [
    {
     "data": {
      "text/plain": [
       "array([[[[ 17,  31,  56],\n",
       "         [ 22,  33,  59],\n",
       "         [ 25,  35,  62],\n",
       "         ...,\n",
       "         [  1,  28,  57],\n",
       "         [  1,  26,  56],\n",
       "         [  1,  22,  51]],\n",
       "\n",
       "        [[ 25,  36,  62],\n",
       "         [ 28,  38,  64],\n",
       "         [ 30,  40,  67],\n",
       "         ...,\n",
       "         [  1,  27,  56],\n",
       "         [  1,  25,  55],\n",
       "         [  2,  21,  51]],\n",
       "\n",
       "        [[ 32,  40,  67],\n",
       "         [ 34,  42,  69],\n",
       "         [ 35,  42,  70],\n",
       "         ...,\n",
       "         [  1,  25,  55],\n",
       "         [  0,  24,  54],\n",
       "         [  1,  21,  51]],\n",
       "\n",
       "        ...,\n",
       "\n",
       "        [[  0,   0,   0],\n",
       "         [  0,   0,   0],\n",
       "         [  0,   0,   0],\n",
       "         ...,\n",
       "         [  0,   0,   0],\n",
       "         [  0,   0,   0],\n",
       "         [  0,   0,   0]],\n",
       "\n",
       "        [[  0,   0,   0],\n",
       "         [  0,   0,   0],\n",
       "         [  0,   0,   0],\n",
       "         ...,\n",
       "         [  0,   0,   0],\n",
       "         [  0,   0,   0],\n",
       "         [  0,   0,   0]],\n",
       "\n",
       "        [[  0,   0,   0],\n",
       "         [  0,   0,   0],\n",
       "         [  0,   0,   0],\n",
       "         ...,\n",
       "         [  0,   0,   0],\n",
       "         [  0,   0,   0],\n",
       "         [  0,   0,   0]]],\n",
       "\n",
       "\n",
       "       [[[196, 192, 190],\n",
       "         [193, 186, 182],\n",
       "         [188, 179, 174],\n",
       "         ...,\n",
       "         [ 90, 142, 200],\n",
       "         [ 90, 142, 201],\n",
       "         [ 90, 142, 201]],\n",
       "\n",
       "        [[230, 229, 229],\n",
       "         [204, 199, 197],\n",
       "         [193, 186, 181],\n",
       "         ...,\n",
       "         [ 91, 143, 201],\n",
       "         [ 91, 143, 201],\n",
       "         [ 91, 143, 201]],\n",
       "\n",
       "        [[232, 225, 224],\n",
       "         [235, 234, 234],\n",
       "         [208, 205, 202],\n",
       "         ...,\n",
       "         [ 91, 144, 202],\n",
       "         [ 91, 144, 202],\n",
       "         [ 92, 144, 202]],\n",
       "\n",
       "        ...,\n",
       "\n",
       "        [[ 18,  17,  15],\n",
       "         [ 14,  14,  13],\n",
       "         [ 29,  29,  32],\n",
       "         ...,\n",
       "         [ 83,  81,  81],\n",
       "         [ 84,  82,  83],\n",
       "         [ 82,  81,  82]],\n",
       "\n",
       "        [[ 22,  20,  18],\n",
       "         [ 16,  15,  14],\n",
       "         [ 25,  24,  24],\n",
       "         ...,\n",
       "         [ 82,  80,  80],\n",
       "         [ 83,  81,  82],\n",
       "         [ 82,  81,  81]],\n",
       "\n",
       "        [[ 45,  43,  39],\n",
       "         [ 61,  59,  54],\n",
       "         [ 81,  78,  74],\n",
       "         ...,\n",
       "         [ 83,  82,  81],\n",
       "         [ 84,  82,  82],\n",
       "         [ 82,  80,  81]]],\n",
       "\n",
       "\n",
       "       [[[ 82,  71,  68],\n",
       "         [ 89,  83,  83],\n",
       "         [100,  98, 104],\n",
       "         ...,\n",
       "         [131, 132, 137],\n",
       "         [126, 124, 124],\n",
       "         [105,  97,  95]],\n",
       "\n",
       "        [[ 95,  91,  97],\n",
       "         [104, 104, 113],\n",
       "         [110, 115, 126],\n",
       "         ...,\n",
       "         [135, 134, 135],\n",
       "         [127, 122, 119],\n",
       "         [111, 105, 103]],\n",
       "\n",
       "        [[ 94,  85,  83],\n",
       "         [ 97,  89,  90],\n",
       "         [110, 109, 115],\n",
       "         ...,\n",
       "         [136, 134, 131],\n",
       "         [127, 120, 117],\n",
       "         [116, 108, 104]],\n",
       "\n",
       "        ...,\n",
       "\n",
       "        [[ 96, 116, 131],\n",
       "         [ 97, 115, 130],\n",
       "         [103, 123, 139],\n",
       "         ...,\n",
       "         [152, 155, 157],\n",
       "         [146, 149, 152],\n",
       "         [130, 133, 134]],\n",
       "\n",
       "        [[ 90, 108, 123],\n",
       "         [ 92, 108, 121],\n",
       "         [100, 119, 134],\n",
       "         ...,\n",
       "         [150, 152, 155],\n",
       "         [144, 146, 147],\n",
       "         [134, 135, 134]],\n",
       "\n",
       "        [[ 86, 102, 116],\n",
       "         [ 87, 103, 115],\n",
       "         [ 94, 114, 127],\n",
       "         ...,\n",
       "         [154, 156, 160],\n",
       "         [146, 148, 152],\n",
       "         [138, 141, 142]]],\n",
       "\n",
       "\n",
       "       ...,\n",
       "\n",
       "\n",
       "       [[[143, 155, 165],\n",
       "         [184, 190, 198],\n",
       "         [142, 149, 155],\n",
       "         ...,\n",
       "         [ 99,  92, 102],\n",
       "         [120,  98, 102],\n",
       "         [100,  84,  95]],\n",
       "\n",
       "        [[151, 149, 139],\n",
       "         [173, 179, 185],\n",
       "         [105, 135, 141],\n",
       "         ...,\n",
       "         [ 91,  87,  99],\n",
       "         [119,  99, 104],\n",
       "         [120,  95, 101]],\n",
       "\n",
       "        [[204, 190, 185],\n",
       "         [180, 185, 195],\n",
       "         [117, 155, 177],\n",
       "         ...,\n",
       "         [ 96,  88, 101],\n",
       "         [125, 103, 110],\n",
       "         [120, 100, 110]],\n",
       "\n",
       "        ...,\n",
       "\n",
       "        [[ 41,  80, 116],\n",
       "         [ 41,  80, 116],\n",
       "         [ 41,  78, 115],\n",
       "         ...,\n",
       "         [ 63,  75,  98],\n",
       "         [ 60,  72,  98],\n",
       "         [ 60,  70,  96]],\n",
       "\n",
       "        [[ 71,  90, 121],\n",
       "         [ 73,  91, 123],\n",
       "         [ 74,  91, 124],\n",
       "         ...,\n",
       "         [ 79, 101, 142],\n",
       "         [ 80, 100, 140],\n",
       "         [ 82, 101, 139]],\n",
       "\n",
       "        [[ 71,  88, 122],\n",
       "         [ 73,  92, 128],\n",
       "         [ 76,  95, 131],\n",
       "         ...,\n",
       "         [ 81, 106, 150],\n",
       "         [ 85, 108, 151],\n",
       "         [ 85, 107, 149]]],\n",
       "\n",
       "\n",
       "       [[[ 22,  24,  23],\n",
       "         [ 23,  25,  24],\n",
       "         [ 24,  26,  25],\n",
       "         ...,\n",
       "         [ 24,  29,  25],\n",
       "         [ 23,  25,  22],\n",
       "         [ 20,  22,  21]],\n",
       "\n",
       "        [[ 22,  24,  23],\n",
       "         [ 23,  25,  24],\n",
       "         [ 23,  26,  25],\n",
       "         ...,\n",
       "         [ 22,  28,  23],\n",
       "         [ 20,  23,  22],\n",
       "         [ 19,  21,  21]],\n",
       "\n",
       "        [[ 22,  24,  22],\n",
       "         [ 23,  25,  24],\n",
       "         [ 23,  26,  25],\n",
       "         ...,\n",
       "         [ 23,  27,  23],\n",
       "         [ 20,  23,  21],\n",
       "         [ 18,  20,  19]],\n",
       "\n",
       "        ...,\n",
       "\n",
       "        [[  8,   5,   0],\n",
       "         [  9,   6,   1],\n",
       "         [  9,   6,   1],\n",
       "         ...,\n",
       "         [  4,   5,   0],\n",
       "         [  5,   4,   0],\n",
       "         [  4,   5,   0]],\n",
       "\n",
       "        [[  7,   5,   0],\n",
       "         [  8,   5,   1],\n",
       "         [  9,   6,   1],\n",
       "         ...,\n",
       "         [  4,   5,   0],\n",
       "         [  4,   5,   0],\n",
       "         [  4,   5,   0]],\n",
       "\n",
       "        [[  7,   5,   0],\n",
       "         [  8,   5,   0],\n",
       "         [  9,   6,   1],\n",
       "         ...,\n",
       "         [  4,   5,   0],\n",
       "         [  4,   5,   0],\n",
       "         [  4,   5,   0]]],\n",
       "\n",
       "\n",
       "       [[[  8,  28,  53],\n",
       "         [ 14,  33,  58],\n",
       "         [ 19,  35,  61],\n",
       "         ...,\n",
       "         [ 11,  16,  35],\n",
       "         [ 10,  16,  35],\n",
       "         [  9,  14,  32]],\n",
       "\n",
       "        [[ 15,  31,  57],\n",
       "         [ 15,  32,  58],\n",
       "         [ 18,  34,  60],\n",
       "         ...,\n",
       "         [ 13,  17,  35],\n",
       "         [ 13,  17,  35],\n",
       "         [ 13,  16,  35]],\n",
       "\n",
       "        [[ 20,  35,  61],\n",
       "         [ 19,  33,  59],\n",
       "         [ 20,  33,  59],\n",
       "         ...,\n",
       "         [ 16,  17,  35],\n",
       "         [ 16,  18,  35],\n",
       "         [ 15,  17,  35]],\n",
       "\n",
       "        ...,\n",
       "\n",
       "        [[  0,   0,   0],\n",
       "         [  0,   0,   0],\n",
       "         [  0,   0,   0],\n",
       "         ...,\n",
       "         [  0,   0,   0],\n",
       "         [  0,   0,   0],\n",
       "         [  0,   0,   0]],\n",
       "\n",
       "        [[  0,   0,   0],\n",
       "         [  0,   0,   0],\n",
       "         [  0,   0,   0],\n",
       "         ...,\n",
       "         [  0,   0,   0],\n",
       "         [  0,   0,   0],\n",
       "         [  0,   0,   0]],\n",
       "\n",
       "        [[  0,   0,   0],\n",
       "         [  0,   0,   0],\n",
       "         [  0,   0,   0],\n",
       "         ...,\n",
       "         [  0,   0,   0],\n",
       "         [  0,   0,   0],\n",
       "         [  0,   0,   0]]]], dtype=uint8)"
      ]
     },
     "execution_count": 16,
     "metadata": {},
     "output_type": "execute_result"
    }
   ],
   "source": [
    "train_set_x_orig"
   ]
  },
  {
   "cell_type": "code",
   "execution_count": 18,
   "metadata": {},
   "outputs": [
    {
     "data": {
      "text/plain": [
       "(209, 64, 64, 3)"
      ]
     },
     "execution_count": 18,
     "metadata": {},
     "output_type": "execute_result"
    }
   ],
   "source": [
    "train_set_x_orig.shape"
   ]
  },
  {
   "cell_type": "code",
   "execution_count": 20,
   "metadata": {},
   "outputs": [
    {
     "data": {
      "text/plain": [
       "array([[0, 0, 1, 0, 0, 0, 0, 1, 0, 0, 0, 1, 0, 1, 1, 0, 0, 0, 0, 1, 0, 0,\n",
       "        0, 0, 1, 1, 0, 1, 0, 1, 0, 0, 0, 0, 0, 0, 0, 0, 1, 0, 0, 1, 1, 0,\n",
       "        0, 0, 0, 1, 0, 0, 1, 0, 0, 0, 1, 0, 1, 1, 0, 1, 1, 1, 0, 0, 0, 0,\n",
       "        0, 0, 1, 0, 0, 1, 0, 0, 0, 0, 0, 0, 0, 0, 0, 0, 0, 1, 1, 0, 0, 0,\n",
       "        1, 0, 0, 0, 1, 1, 1, 0, 0, 1, 0, 0, 0, 0, 1, 0, 1, 0, 1, 1, 1, 1,\n",
       "        1, 1, 0, 0, 0, 0, 0, 1, 0, 0, 0, 1, 0, 0, 1, 0, 1, 0, 1, 1, 0, 0,\n",
       "        0, 1, 1, 1, 1, 1, 0, 0, 0, 0, 1, 0, 1, 1, 1, 0, 1, 1, 0, 0, 0, 1,\n",
       "        0, 0, 1, 0, 0, 0, 0, 0, 1, 0, 1, 0, 1, 0, 0, 1, 1, 1, 0, 0, 1, 1,\n",
       "        0, 1, 0, 1, 0, 0, 0, 0, 0, 1, 0, 0, 1, 0, 0, 0, 1, 0, 0, 0, 0, 1,\n",
       "        0, 0, 1, 0, 0, 0, 0, 0, 0, 0, 0]], dtype=int64)"
      ]
     },
     "execution_count": 20,
     "metadata": {},
     "output_type": "execute_result"
    }
   ],
   "source": [
    "train_set_y"
   ]
  },
  {
   "cell_type": "code",
   "execution_count": 21,
   "metadata": {},
   "outputs": [
    {
     "data": {
      "text/plain": [
       "(1, 209)"
      ]
     },
     "execution_count": 21,
     "metadata": {},
     "output_type": "execute_result"
    }
   ],
   "source": [
    "train_set_y.shape"
   ]
  },
  {
   "cell_type": "code",
   "execution_count": 22,
   "metadata": {
    "collapsed": true,
    "jupyter": {
     "outputs_hidden": true
    }
   },
   "outputs": [
    {
     "data": {
      "text/plain": [
       "array([[[[158, 104,  83],\n",
       "         [161, 106,  85],\n",
       "         [162, 107,  84],\n",
       "         ...,\n",
       "         [170, 120, 100],\n",
       "         [167, 121, 103],\n",
       "         [172, 127, 109]],\n",
       "\n",
       "        [[158, 103,  82],\n",
       "         [160, 104,  82],\n",
       "         [162, 105,  83],\n",
       "         ...,\n",
       "         [169, 118,  99],\n",
       "         [164, 117,  98],\n",
       "         [168, 121, 104]],\n",
       "\n",
       "        [[158, 104,  82],\n",
       "         [161, 105,  82],\n",
       "         [162, 105,  83],\n",
       "         ...,\n",
       "         [173, 123, 102],\n",
       "         [169, 122, 104],\n",
       "         [168, 122, 104]],\n",
       "\n",
       "        ...,\n",
       "\n",
       "        [[102,  68,  52],\n",
       "         [ 44,  31,  23],\n",
       "         [ 28,  23,  20],\n",
       "         ...,\n",
       "         [163, 118, 102],\n",
       "         [163, 120, 103],\n",
       "         [166, 121, 105]],\n",
       "\n",
       "        [[ 99,  67,  51],\n",
       "         [ 38,  28,  22],\n",
       "         [ 30,  26,  23],\n",
       "         ...,\n",
       "         [161, 117, 100],\n",
       "         [164, 121, 104],\n",
       "         [168, 123, 106]],\n",
       "\n",
       "        [[127,  95,  72],\n",
       "         [ 39,  29,  22],\n",
       "         [ 30,  25,  22],\n",
       "         ...,\n",
       "         [165, 122, 105],\n",
       "         [169, 126, 109],\n",
       "         [173, 128, 110]]],\n",
       "\n",
       "\n",
       "       [[[115, 110, 111],\n",
       "         [137, 129, 129],\n",
       "         [155, 146, 145],\n",
       "         ...,\n",
       "         [159, 156, 157],\n",
       "         [141, 141, 145],\n",
       "         [121, 122, 127]],\n",
       "\n",
       "        [[123, 118, 120],\n",
       "         [143, 136, 136],\n",
       "         [159, 153, 150],\n",
       "         ...,\n",
       "         [167, 164, 165],\n",
       "         [151, 151, 154],\n",
       "         [130, 133, 137]],\n",
       "\n",
       "        [[135, 130, 130],\n",
       "         [150, 145, 141],\n",
       "         [164, 159, 153],\n",
       "         ...,\n",
       "         [173, 174, 172],\n",
       "         [160, 162, 162],\n",
       "         [141, 144, 148]],\n",
       "\n",
       "        ...,\n",
       "\n",
       "        [[197, 196, 205],\n",
       "         [208, 209, 214],\n",
       "         [215, 216, 220],\n",
       "         ...,\n",
       "         [222, 224, 229],\n",
       "         [205, 208, 215],\n",
       "         [185, 189, 197]],\n",
       "\n",
       "        [[190, 192, 199],\n",
       "         [203, 205, 210],\n",
       "         [213, 214, 218],\n",
       "         ...,\n",
       "         [217, 220, 225],\n",
       "         [198, 202, 209],\n",
       "         [178, 182, 191]],\n",
       "\n",
       "        [[183, 186, 193],\n",
       "         [197, 199, 205],\n",
       "         [208, 210, 214],\n",
       "         ...,\n",
       "         [212, 215, 220],\n",
       "         [192, 196, 203],\n",
       "         [171, 176, 186]]],\n",
       "\n",
       "\n",
       "       [[[255, 253, 254],\n",
       "         [255, 253, 254],\n",
       "         [255, 253, 254],\n",
       "         ...,\n",
       "         [197, 178, 118],\n",
       "         [195, 177, 116],\n",
       "         [192, 176, 115]],\n",
       "\n",
       "        [[255, 253, 254],\n",
       "         [255, 253, 254],\n",
       "         [255, 253, 254],\n",
       "         ...,\n",
       "         [197, 178, 120],\n",
       "         [195, 176, 118],\n",
       "         [193, 174, 118]],\n",
       "\n",
       "        [[255, 253, 254],\n",
       "         [255, 253, 254],\n",
       "         [255, 253, 254],\n",
       "         ...,\n",
       "         [197, 177, 121],\n",
       "         [194, 174, 121],\n",
       "         [190, 171, 122]],\n",
       "\n",
       "        ...,\n",
       "\n",
       "        [[ 94,  95,  97],\n",
       "         [102, 104, 108],\n",
       "         [115, 113, 115],\n",
       "         ...,\n",
       "         [ 68,  67,  91],\n",
       "         [ 71,  55,  80],\n",
       "         [ 64,  51,  82]],\n",
       "\n",
       "        [[ 68,  71,  69],\n",
       "         [ 75,  79,  80],\n",
       "         [ 82,  91,  91],\n",
       "         ...,\n",
       "         [122, 103, 109],\n",
       "         [114,  84,  99],\n",
       "         [ 97,  72, 100]],\n",
       "\n",
       "        [[ 67,  86,  89],\n",
       "         [ 62,  83,  90],\n",
       "         [ 47,  73,  82],\n",
       "         ...,\n",
       "         [147, 120, 125],\n",
       "         [142, 110, 118],\n",
       "         [133, 101, 121]]],\n",
       "\n",
       "\n",
       "       ...,\n",
       "\n",
       "\n",
       "       [[[ 41,  47,  84],\n",
       "         [ 72,  78, 112],\n",
       "         [103, 102, 124],\n",
       "         ...,\n",
       "         [125, 112, 119],\n",
       "         [107, 101, 117],\n",
       "         [ 76,  79, 109]],\n",
       "\n",
       "        [[ 93,  96, 119],\n",
       "         [112, 109, 124],\n",
       "         [130, 122, 136],\n",
       "         ...,\n",
       "         [141, 121, 118],\n",
       "         [130, 112, 114],\n",
       "         [122, 109, 117]],\n",
       "\n",
       "        [[119, 114, 123],\n",
       "         [133, 124, 128],\n",
       "         [164, 149, 145],\n",
       "         ...,\n",
       "         [187, 160, 135],\n",
       "         [157, 132, 120],\n",
       "         [136, 115, 109]],\n",
       "\n",
       "        ...,\n",
       "\n",
       "        [[233, 223, 207],\n",
       "         [235, 226, 218],\n",
       "         [242, 236, 235],\n",
       "         ...,\n",
       "         [164, 170, 196],\n",
       "         [189, 185, 196],\n",
       "         [190, 182, 188]],\n",
       "\n",
       "        [[247, 250, 248],\n",
       "         [236, 238, 232],\n",
       "         [219, 215, 219],\n",
       "         ...,\n",
       "         [118, 101, 117],\n",
       "         [153, 134, 154],\n",
       "         [174, 146, 156]],\n",
       "\n",
       "        [[253, 254, 254],\n",
       "         [246, 250, 249],\n",
       "         [226, 233, 234],\n",
       "         ...,\n",
       "         [154, 111,  93],\n",
       "         [176, 132, 104],\n",
       "         [183, 141, 116]]],\n",
       "\n",
       "\n",
       "       [[[ 18,  18,  16],\n",
       "         [ 35,  36,  31],\n",
       "         [ 54,  57,  52],\n",
       "         ...,\n",
       "         [138, 140, 118],\n",
       "         [139, 141, 124],\n",
       "         [130, 129, 114]],\n",
       "\n",
       "        [[ 21,  21,  18],\n",
       "         [ 44,  45,  39],\n",
       "         [ 68,  74,  66],\n",
       "         ...,\n",
       "         [128, 131, 109],\n",
       "         [116, 117,  98],\n",
       "         [ 95,  93,  76]],\n",
       "\n",
       "        [[ 30,  31,  26],\n",
       "         [ 54,  58,  52],\n",
       "         [ 99, 110, 104],\n",
       "         ...,\n",
       "         [127, 129, 108],\n",
       "         [113, 114,  94],\n",
       "         [ 99,  99,  82]],\n",
       "\n",
       "        ...,\n",
       "\n",
       "        [[178, 178, 163],\n",
       "         [161, 163, 146],\n",
       "         [170, 174, 163],\n",
       "         ...,\n",
       "         [112, 108,  85],\n",
       "         [149, 150, 131],\n",
       "         [180, 185, 172]],\n",
       "\n",
       "        [[182, 183, 167],\n",
       "         [172, 175, 162],\n",
       "         [170, 173, 162],\n",
       "         ...,\n",
       "         [ 88,  90,  77],\n",
       "         [122, 115,  89],\n",
       "         [157, 154, 131]],\n",
       "\n",
       "        [[188, 190, 179],\n",
       "         [173, 175, 163],\n",
       "         [160, 162, 146],\n",
       "         ...,\n",
       "         [ 48,  50,  44],\n",
       "         [103, 103,  89],\n",
       "         [144, 137, 108]]],\n",
       "\n",
       "\n",
       "       [[[133, 163,  75],\n",
       "         [ 98, 120,  44],\n",
       "         [108, 132,  47],\n",
       "         ...,\n",
       "         [ 96, 138,  97],\n",
       "         [ 96, 146, 109],\n",
       "         [ 81, 132, 101]],\n",
       "\n",
       "        [[ 79, 102,  39],\n",
       "         [ 83, 112,  33],\n",
       "         [ 76, 106,  26],\n",
       "         ...,\n",
       "         [ 99, 149,  76],\n",
       "         [ 71, 119,  62],\n",
       "         [ 58, 106,  72]],\n",
       "\n",
       "        [[ 35,  53,  27],\n",
       "         [ 54,  74,  46],\n",
       "         [ 35,  55,  17],\n",
       "         ...,\n",
       "         [110, 157, 122],\n",
       "         [ 72, 119,  89],\n",
       "         [ 81, 131, 108]],\n",
       "\n",
       "        ...,\n",
       "\n",
       "        [[ 76, 108,  79],\n",
       "         [ 70, 110,  83],\n",
       "         [ 70, 105,  84],\n",
       "         ...,\n",
       "         [ 25,  49,  21],\n",
       "         [ 26,  53,  24],\n",
       "         [ 27,  54,  28]],\n",
       "\n",
       "        [[109, 120,  97],\n",
       "         [ 86, 116,  86],\n",
       "         [ 71, 105,  79],\n",
       "         ...,\n",
       "         [ 17,  46,  20],\n",
       "         [ 23,  49,  28],\n",
       "         [ 19,  33,  18]],\n",
       "\n",
       "        [[ 97, 117, 100],\n",
       "         [ 70, 108,  75],\n",
       "         [ 75,  99,  69],\n",
       "         ...,\n",
       "         [  8,  33,  12],\n",
       "         [ 13,  35,  18],\n",
       "         [  5,  22,   5]]]], dtype=uint8)"
      ]
     },
     "execution_count": 22,
     "metadata": {},
     "output_type": "execute_result"
    }
   ],
   "source": [
    "test_set_x_orig"
   ]
  },
  {
   "cell_type": "code",
   "execution_count": 24,
   "metadata": {},
   "outputs": [
    {
     "data": {
      "text/plain": [
       "(50, 64, 64, 3)"
      ]
     },
     "execution_count": 24,
     "metadata": {},
     "output_type": "execute_result"
    }
   ],
   "source": [
    "test_set_x_orig.shape"
   ]
  },
  {
   "cell_type": "code",
   "execution_count": 26,
   "metadata": {},
   "outputs": [
    {
     "data": {
      "text/plain": [
       "array([[1, 1, 1, 1, 1, 0, 1, 1, 1, 1, 1, 1, 1, 0, 0, 1, 0, 1, 1, 1, 1, 0,\n",
       "        0, 1, 1, 1, 1, 0, 1, 0, 1, 1, 1, 1, 0, 0, 0, 1, 0, 0, 1, 1, 1, 0,\n",
       "        0, 0, 1, 1, 1, 0]], dtype=int64)"
      ]
     },
     "execution_count": 26,
     "metadata": {},
     "output_type": "execute_result"
    }
   ],
   "source": [
    "test_set_y"
   ]
  },
  {
   "cell_type": "code",
   "execution_count": 28,
   "metadata": {},
   "outputs": [
    {
     "data": {
      "text/plain": [
       "(1, 50)"
      ]
     },
     "execution_count": 28,
     "metadata": {},
     "output_type": "execute_result"
    }
   ],
   "source": [
    "test_set_y.shape"
   ]
  },
  {
   "cell_type": "code",
   "execution_count": 49,
   "metadata": {
    "scrolled": true
   },
   "outputs": [
    {
     "name": "stdout",
     "output_type": "stream",
     "text": [
      "Number of training examples: m_train = 209\n",
      "Number of testing examples: m_test = 50\n",
      "Height/Width of each image: num_px = 64\n",
      "Each image is of size: (64, 64, 3)\n",
      "train_set_x shape: (209, 64, 64, 3)\n",
      "train_set_y shape: (1, 209)\n",
      "test_set_x shape: (50, 64, 64, 3)\n",
      "test_set_y shape: (1, 50)\n"
     ]
    }
   ],
   "source": [
    "### START CODE HERE ### (≈ 3 lines of code)\n",
    "m_train = 209\n",
    "m_test = 50\n",
    "num_px = 64\n",
    "### END CODE HERE ###\n",
    "\n",
    "print (\"Number of training examples: m_train = \" + str(m_train))\n",
    "print (\"Number of testing examples: m_test = \" + str(m_test))\n",
    "print (\"Height/Width of each image: num_px = \" + str(num_px))\n",
    "print (\"Each image is of size: (\" + str(num_px) + \", \" + str(num_px) + \", 3)\")\n",
    "print (\"train_set_x shape: \" + str(train_set_x_orig.shape))\n",
    "print (\"train_set_y shape: \" + str(train_set_y.shape))\n",
    "print (\"test_set_x shape: \" + str(test_set_x_orig.shape))\n",
    "print (\"test_set_y shape: \" + str(test_set_y.shape))"
   ]
  },
  {
   "cell_type": "code",
   "execution_count": 50,
   "metadata": {},
   "outputs": [
    {
     "data": {
      "text/plain": [
       "(209, 64, 64, 3)"
      ]
     },
     "execution_count": 50,
     "metadata": {},
     "output_type": "execute_result"
    }
   ],
   "source": [
    "train_set_x_orig.shape"
   ]
  },
  {
   "cell_type": "code",
   "execution_count": 51,
   "metadata": {},
   "outputs": [
    {
     "data": {
      "text/plain": [
       "numpy.ndarray"
      ]
     },
     "execution_count": 51,
     "metadata": {},
     "output_type": "execute_result"
    }
   ],
   "source": [
    "type(train_set_x_orig)"
   ]
  },
  {
   "cell_type": "code",
   "execution_count": 52,
   "metadata": {},
   "outputs": [],
   "source": [
    "train_set_x_flatten = train_set_x_orig.reshape(m_train*num_px*num_px*3, 1)"
   ]
  },
  {
   "cell_type": "code",
   "execution_count": 53,
   "metadata": {},
   "outputs": [
    {
     "data": {
      "text/plain": [
       "(2568192, 1)"
      ]
     },
     "execution_count": 53,
     "metadata": {},
     "output_type": "execute_result"
    }
   ],
   "source": [
    "train_set_x_flatten.shape"
   ]
  },
  {
   "cell_type": "code",
   "execution_count": 54,
   "metadata": {},
   "outputs": [
    {
     "data": {
      "text/plain": [
       "array([[17],\n",
       "       [31],\n",
       "       [56],\n",
       "       ...,\n",
       "       [ 0],\n",
       "       [ 0],\n",
       "       [ 0]], dtype=uint8)"
      ]
     },
     "execution_count": 54,
     "metadata": {},
     "output_type": "execute_result"
    }
   ],
   "source": [
    "train_set_x_flatten"
   ]
  },
  {
   "cell_type": "code",
   "execution_count": 55,
   "metadata": {},
   "outputs": [
    {
     "name": "stdout",
     "output_type": "stream",
     "text": [
      "train_set_x_flatten shape: (209, 12288, 1)\n",
      "train_set_y shape: (1, 209)\n",
      "test_set_x_flatten shape: (50, 12288, 1)\n",
      "test_set_y shape: (1, 50)\n",
      "sanity check after reshaping: [[ 17]\n",
      " [196]\n",
      " [ 82]\n",
      " [  1]\n",
      " [  9]]\n"
     ]
    }
   ],
   "source": [
    "# Reshape the training and test examples\n",
    "\n",
    "### START CODE HERE ### (≈ 2 lines of code)\n",
    "train_set_x_flatten = train_set_x_orig.reshape(m_train, num_px*num_px*3, 1)\n",
    "test_set_x_flatten = test_set_x_orig.reshape(m_test, num_px*num_px*3, 1)\n",
    "### END CODE HERE ###\n",
    "\n",
    "print (\"train_set_x_flatten shape: \" + str(train_set_x_flatten.shape))\n",
    "print (\"train_set_y shape: \" + str(train_set_y.shape))\n",
    "print (\"test_set_x_flatten shape: \" + str(test_set_x_flatten.shape))\n",
    "print (\"test_set_y shape: \" + str(test_set_y.shape))\n",
    "print (\"sanity check after reshaping: \" + str(train_set_x_flatten[0:5,0]))"
   ]
  },
  {
   "cell_type": "code",
   "execution_count": 61,
   "metadata": {},
   "outputs": [],
   "source": [
    "train_set_x = train_set_x_flatten/255.\n",
    "test_set_x = test_set_x_flatten/255."
   ]
  },
  {
   "cell_type": "code",
   "execution_count": 62,
   "metadata": {
    "collapsed": true,
    "jupyter": {
     "outputs_hidden": true
    },
    "scrolled": true
   },
   "outputs": [
    {
     "data": {
      "text/plain": [
       "array([[[0.06666667],\n",
       "        [0.12156863],\n",
       "        [0.21960784],\n",
       "        ...,\n",
       "        [0.        ],\n",
       "        [0.        ],\n",
       "        [0.        ]],\n",
       "\n",
       "       [[0.76862745],\n",
       "        [0.75294118],\n",
       "        [0.74509804],\n",
       "        ...,\n",
       "        [0.32156863],\n",
       "        [0.31372549],\n",
       "        [0.31764706]],\n",
       "\n",
       "       [[0.32156863],\n",
       "        [0.27843137],\n",
       "        [0.26666667],\n",
       "        ...,\n",
       "        [0.54117647],\n",
       "        [0.55294118],\n",
       "        [0.55686275]],\n",
       "\n",
       "       ...,\n",
       "\n",
       "       [[0.56078431],\n",
       "        [0.60784314],\n",
       "        [0.64705882],\n",
       "        ...,\n",
       "        [0.33333333],\n",
       "        [0.41960784],\n",
       "        [0.58431373]],\n",
       "\n",
       "       [[0.08627451],\n",
       "        [0.09411765],\n",
       "        [0.09019608],\n",
       "        ...,\n",
       "        [0.01568627],\n",
       "        [0.01960784],\n",
       "        [0.        ]],\n",
       "\n",
       "       [[0.03137255],\n",
       "        [0.10980392],\n",
       "        [0.20784314],\n",
       "        ...,\n",
       "        [0.        ],\n",
       "        [0.        ],\n",
       "        [0.        ]]])"
      ]
     },
     "execution_count": 62,
     "metadata": {},
     "output_type": "execute_result"
    }
   ],
   "source": [
    "train_set_x"
   ]
  },
  {
   "cell_type": "markdown",
   "metadata": {},
   "source": [
    "### 2. Network Architecture"
   ]
  },
  {
   "cell_type": "code",
   "execution_count": 65,
   "metadata": {},
   "outputs": [],
   "source": [
    "def sigmoid(x):\n",
    "    \"\"\"\n",
    "    Compute the sigmoid of z\n",
    "\n",
    "    Arguments:\n",
    "    z -- A scalar or numpy array of any size.\n",
    "\n",
    "    Return:\n",
    "    s -- sigmoid(z)\n",
    "    \"\"\"\n",
    "\n",
    "    ### START CODE HERE ### (≈ 1 line of code)\n",
    "    s = 1 / (1 + np.exp(-x))  \n",
    "    ### END CODE HERE ###\n",
    "    \n",
    "    return s"
   ]
  },
  {
   "cell_type": "code",
   "execution_count": 66,
   "metadata": {
    "scrolled": true
   },
   "outputs": [
    {
     "name": "stdout",
     "output_type": "stream",
     "text": [
      "sigmoid([0, 2]) = [0.5        0.88079708]\n"
     ]
    }
   ],
   "source": [
    "print (\"sigmoid([0, 2]) = \" + str(sigmoid(np.array([0,2]))))"
   ]
  },
  {
   "cell_type": "markdown",
   "metadata": {},
   "source": [
    "#### 2.1. Initializing parameters\n"
   ]
  },
  {
   "cell_type": "code",
   "execution_count": null,
   "metadata": {},
   "outputs": [],
   "source": [
    "def initialize_with_zeros(dim):\n",
    "    w = None\n",
    "    b = None\n",
    "\n",
    "    assert(w.shape == (dim, 1))\n",
    "    assert(isinstance(b, float) or isinstance(b, int))\n",
    "    \n",
    "    return w, b"
   ]
  },
  {
   "cell_type": "code",
   "execution_count": null,
   "metadata": {},
   "outputs": [],
   "source": [
    "dim = 2\n",
    "w, b = initialize_with_zeros(dim)\n",
    "print (\"w = \" + str(w))\n",
    "print (\"b = \" + str(b))"
   ]
  },
  {
   "cell_type": "markdown",
   "metadata": {},
   "source": [
    "#### 2.2.  Forward and Backward propagation"
   ]
  },
  {
   "cell_type": "code",
   "execution_count": null,
   "metadata": {},
   "outputs": [],
   "source": [
    "def propagate(w, b, X, Y):\n",
    "    \"\"\"\n",
    "    Implement the cost function and its gradient for the propagation explained above\n",
    "\n",
    "    Arguments:\n",
    "    w -- weights, a numpy array of size (num_px * num_px * 3, 1)\n",
    "    b -- bias, a scalar\n",
    "    X -- data of size (num_px * num_px * 3, number of examples)\n",
    "    Y -- true \"label\" vector (containing 0 if non-cat, 1 if cat) of size (1, number of examples)\n",
    "\n",
    "    Return:\n",
    "    cost -- negative log-likelihood cost for logistic regression\n",
    "    dw -- gradient of the loss with respect to w, thus same shape as w\n",
    "    db -- gradient of the loss with respect to b, thus same shape as b\n",
    "    \n",
    "    Tips:\n",
    "    - Write your code step by step for the propagation\n",
    "    \"\"\"\n",
    "    \n",
    "    m = X.shape[1]\n",
    "    \n",
    "    # FORWARD PROPAGATION (FROM X TO COST)\n",
    "    ### START CODE HERE ### (≈ 2 lines of code)\n",
    "    A = None  # compute activation\n",
    "    cost = None  # compute cost\n",
    "    ### END CODE HERE ###\n",
    "    \n",
    "    # BACKWARD PROPAGATION (TO FIND GRAD)\n",
    "    ### START CODE HERE ### (≈ 2 lines of code)\n",
    "    dw = None\n",
    "    db = None\n",
    "    ### END CODE HERE ###\n",
    "\n",
    "    assert(dw.shape == w.shape)\n",
    "    assert(db.dtype == float)\n",
    "    cost = np.squeeze(cost)\n",
    "    assert(cost.shape == ())\n",
    "    \n",
    "    grads = {\"dw\": dw,\n",
    "             \"db\": db}\n",
    "    \n",
    "    return grads, cost"
   ]
  },
  {
   "cell_type": "code",
   "execution_count": null,
   "metadata": {},
   "outputs": [],
   "source": [
    "w, b, X, Y = np.array([[1.],[2.]]), 2., np.array([[1.,2.,-1.],[3.,4.,-3.2]]), np.array([[1,0,1]])\n",
    "grads, cost = propagate(w, b, X, Y)\n",
    "print (\"dw = \" + str(grads[\"dw\"]))\n",
    "print (\"db = \" + str(grads[\"db\"]))\n",
    "print (\"cost = \" + str(cost))"
   ]
  },
  {
   "cell_type": "markdown",
   "metadata": {},
   "source": [
    "#### 2.3. Optimization"
   ]
  },
  {
   "cell_type": "code",
   "execution_count": null,
   "metadata": {},
   "outputs": [],
   "source": [
    "def optimize(w, b, X, Y, num_iterations, learning_rate, print_cost = False):\n",
    "    \"\"\"\n",
    "    This function optimizes w and b by running a gradient descent algorithm\n",
    "    \n",
    "    Arguments:\n",
    "    w -- weights, a numpy array of size (num_px * num_px * 3, 1)\n",
    "    b -- bias, a scalar\n",
    "    X -- data of shape (num_px * num_px * 3, number of examples)\n",
    "    Y -- true \"label\" vector (containing 0 if non-cat, 1 if cat), of shape (1, number of examples)\n",
    "    num_iterations -- number of iterations of the optimization loop\n",
    "    learning_rate -- learning rate of the gradient descent update rule\n",
    "    print_cost -- True to print the loss every 100 steps\n",
    "    \n",
    "    Returns:\n",
    "    params -- dictionary containing the weights w and bias b\n",
    "    grads -- dictionary containing the gradients of the weights and bias with respect to the cost function\n",
    "    costs -- list of all the costs computed during the optimization, this will be used to plot the learning curve.\n",
    "    \n",
    "    Tips:\n",
    "    You basically need to write down two steps and iterate through them:\n",
    "        1) Calculate the cost and the gradient for the current parameters. Use propagate().\n",
    "        2) Update the parameters using gradient descent rule for w and b.\n",
    "    \"\"\"\n",
    "    \n",
    "    costs = []\n",
    "    \n",
    "    for i in range(num_iterations):\n",
    "        \n",
    "        \n",
    "        # Cost and gradient calculation (≈ 1-4 lines of code)\n",
    "        ### START CODE HERE ### \n",
    "        grads, cost = None\n",
    "        ### END CODE HERE ###\n",
    "        \n",
    "        # Retrieve derivatives from grads\n",
    "        dw = grads[\"dw\"]\n",
    "        db = grads[\"db\"]\n",
    "        \n",
    "        # update rule (≈ 2 lines of code)\n",
    "        ### START CODE HERE ###\n",
    "        w = None\n",
    "        b = None\n",
    "        ### END CODE HERE ###\n",
    "        \n",
    "        # Record the costs\n",
    "        if i % 100 == 0:\n",
    "            costs.append(cost)\n",
    "        \n",
    "        # Print the cost every 100 training examples\n",
    "        if print_cost and i % 100 == 0:\n",
    "            print (\"Cost after iteration %i: %f\" % (i, cost))\n",
    "    \n",
    "    params = {\"w\": w,\n",
    "              \"b\": b}\n",
    "    \n",
    "    grads = {\"dw\": dw,\n",
    "             \"db\": db}\n",
    "    \n",
    "    return params, grads, costs"
   ]
  },
  {
   "cell_type": "code",
   "execution_count": null,
   "metadata": {},
   "outputs": [],
   "source": [
    "params, grads, costs = optimize(w, b, X, Y, num_iterations= 100, learning_rate = 0.009, print_cost = False)\n",
    "\n",
    "print (\"w = \" + str(params[\"w\"]))\n",
    "print (\"b = \" + str(params[\"b\"]))\n",
    "print (\"dw = \" + str(grads[\"dw\"]))\n",
    "print (\"db = \" + str(grads[\"db\"]))"
   ]
  },
  {
   "cell_type": "markdown",
   "metadata": {},
   "source": [
    "#### 2.4. Prediciton"
   ]
  },
  {
   "cell_type": "code",
   "execution_count": null,
   "metadata": {},
   "outputs": [],
   "source": [
    "def predict(w, b, X):\n",
    "    '''\n",
    "    Predict whether the label is 0 or 1 using learned logistic regression parameters (w, b)\n",
    "    \n",
    "    Arguments:\n",
    "    w -- weights, a numpy array of size (num_px * num_px * 3, 1)\n",
    "    b -- bias, a scalar\n",
    "    X -- data of size (num_px * num_px * 3, number of examples)\n",
    "    \n",
    "    Returns:\n",
    "    Y_prediction -- a numpy array (vector) containing all predictions (0/1) for the examples in X\n",
    "    '''\n",
    "    \n",
    "    m = X.shape[1]\n",
    "    Y_prediction = np.zeros((1,m))\n",
    "    w = w.reshape(X.shape[0], 1)\n",
    "    \n",
    "    # Compute vector \"A\" predicting the probabilities of a cat being present in the picture\n",
    "    ### START CODE HERE ### (≈ 1 line of code)\n",
    "    A = None\n",
    "    ### END CODE HERE ###\n",
    "    \n",
    "    for i in range(A.shape[1]):\n",
    "        \n",
    "        # Convert probabilities A[0,i] to actual predictions p[0,i]\n",
    "        ### START CODE HERE ### (≈ 4 lines of code)\n",
    "        Y_prediction[0][i] = None\n",
    "        ### END CODE HERE ###\n",
    "    \n",
    "    assert(Y_prediction.shape == (1, m))\n",
    "    \n",
    "    return Y_prediction"
   ]
  },
  {
   "cell_type": "code",
   "execution_count": null,
   "metadata": {},
   "outputs": [],
   "source": [
    "w = np.array([[0.1124579],[0.23106775]])\n",
    "b = -0.3\n",
    "X = np.array([[1.,-1.1,-3.2],[1.2,2.,0.1]])\n",
    "print (\"predictions = \" + str(predict(w, b, X)))"
   ]
  },
  {
   "cell_type": "markdown",
   "metadata": {},
   "source": [
    "### 3. Merge all functions into a model"
   ]
  },
  {
   "cell_type": "code",
   "execution_count": null,
   "metadata": {},
   "outputs": [],
   "source": [
    "def model(X_train, Y_train, X_test, Y_test, num_iterations=2000, learning_rate=0.5, print_cost=False):\n",
    "    \"\"\"\n",
    "    Builds the logistic regression model by calling the function you've implemented previously\n",
    "    \n",
    "    Arguments:\n",
    "    X_train -- training set represented by a numpy array of shape (num_px * num_px * 3, m_train)\n",
    "    Y_train -- training labels represented by a numpy array (vector) of shape (1, m_train)\n",
    "    X_test -- test set represented by a numpy array of shape (num_px * num_px * 3, m_test)\n",
    "    Y_test -- test labels represented by a numpy array (vector) of shape (1, m_test)\n",
    "    num_iterations -- hyperparameter representing the number of iterations to optimize the parameters\n",
    "    learning_rate -- hyperparameter representing the learning rate used in the update rule of optimize()\n",
    "    print_cost -- Set to true to print the cost every 100 iterations\n",
    "    \n",
    "    Returns:\n",
    "    d -- dictionary containing information about the model.\n",
    "    \"\"\"\n",
    "    \n",
    "    ### START CODE HERE ###\n",
    "    # initialize parameters with zeros (≈ 1 line of code)\n",
    "    w, b = None\n",
    "\n",
    "    # Gradient descent (≈ 1 line of code)\n",
    "    parameters, grads, costs = None\n",
    "    \n",
    "    # Retrieve parameters w and b from dictionary \"parameters\"\n",
    "    w = parameters[\"w\"]\n",
    "    b = parameters[\"b\"]\n",
    "    \n",
    "    # Predict test/train set examples (≈ 2 lines of code)\n",
    "    Y_prediction_test = None\n",
    "    Y_prediction_train = None\n",
    "\n",
    "    ### END CODE HERE ###\n",
    "\n",
    "    # Print train/test Errors\n",
    "    print(\"train accuracy: {} %\".format(100 - np.mean(np.abs(Y_prediction_train - Y_train)) * 100))\n",
    "    print(\"test accuracy: {} %\".format(100 - np.mean(np.abs(Y_prediction_test - Y_test)) * 100))\n",
    "\n",
    "    \n",
    "    d = {\"costs\": costs,\n",
    "         \"Y_prediction_test\": Y_prediction_test, \n",
    "         \"Y_prediction_train\" : Y_prediction_train, \n",
    "         \"w\" : w, \n",
    "         \"b\" : b,\n",
    "         \"learning_rate\" : learning_rate,\n",
    "         \"num_iterations\": num_iterations}\n",
    "    \n",
    "    return d"
   ]
  },
  {
   "cell_type": "code",
   "execution_count": null,
   "metadata": {},
   "outputs": [],
   "source": [
    "d = model(train_set_x, train_set_y, test_set_x, test_set_y, num_iterations = 2000, learning_rate = 0.005, print_cost = True)"
   ]
  },
  {
   "cell_type": "code",
   "execution_count": null,
   "metadata": {},
   "outputs": [],
   "source": [
    "# Example of a picture that was wrongly classified.\n",
    "index = 1\n",
    "plt.imshow(test_set_x[:,index].reshape((num_px, num_px, 3)))\n",
    "print (\"y = \" + str(test_set_y[0,index]) + \", you predicted that it is a \\\"\" + classes[d[\"Y_prediction_test\"][0,index]].decode(\"utf-8\") +  \"\\\" picture.\")"
   ]
  },
  {
   "cell_type": "code",
   "execution_count": null,
   "metadata": {},
   "outputs": [],
   "source": [
    "# Plot learning curve (with costs)\n",
    "costs = np.squeeze(d['costs'])\n",
    "plt.plot(costs)\n",
    "plt.ylabel('cost')\n",
    "plt.xlabel('iterations (per hundreds)')\n",
    "plt.title(\"Learning rate =\" + str(d[\"learning_rate\"]))\n",
    "plt.show()"
   ]
  }
 ],
 "metadata": {
  "coursera": {
   "course_slug": "neural-networks-deep-learning",
   "graded_item_id": "XaIWT",
   "launcher_item_id": "zAgPl"
  },
  "kernelspec": {
   "display_name": "Python 3 (ipykernel)",
   "language": "python",
   "name": "python3"
  },
  "language_info": {
   "codemirror_mode": {
    "name": "ipython",
    "version": 3
   },
   "file_extension": ".py",
   "mimetype": "text/x-python",
   "name": "python",
   "nbconvert_exporter": "python",
   "pygments_lexer": "ipython3",
   "version": "3.11.5"
  }
 },
 "nbformat": 4,
 "nbformat_minor": 4
}
