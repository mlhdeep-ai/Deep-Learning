{
 "cells": [
  {
   "cell_type": "code",
   "execution_count": null,
   "id": "92f4e667-a652-4d78-a382-3c7164e2e397",
   "metadata": {},
   "outputs": [],
   "source": [
    "classes[np.squeeze(train_set_y[:, index])].decode(\"utf-8\")"
   ]
  }
 ],
 "metadata": {
  "kernelspec": {
   "display_name": "Python 3 (ipykernel)",
   "language": "python",
   "name": "python3"
  },
  "language_info": {
   "name": ""
  }
 },
 "nbformat": 4,
 "nbformat_minor": 5
}
