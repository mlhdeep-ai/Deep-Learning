{
 "cells": [
  {
   "cell_type": "markdown",
   "id": "f335d4ac-4bdf-4296-87a5-5a0230e48b10",
   "metadata": {},
   "source": [
    "# Broadcasting"
   ]
  },
  {
   "cell_type": "code",
   "execution_count": 1,
   "id": "b16f697c-4c6e-44cf-bebb-98787c0bf70a",
   "metadata": {},
   "outputs": [],
   "source": [
    "import numpy as np"
   ]
  },
  {
   "cell_type": "code",
   "execution_count": 2,
   "id": "c8f1c0af-060d-4841-858d-926db8adc3e8",
   "metadata": {},
   "outputs": [
    {
     "data": {
      "text/plain": [
       "array([[ 56. ,   0. ,   4.4,  68. ],\n",
       "       [  1.2, 104. ,  52. ,   8. ],\n",
       "       [  1.8, 135. ,  99. ,   0.9]])"
      ]
     },
     "execution_count": 2,
     "metadata": {},
     "output_type": "execute_result"
    }
   ],
   "source": [
    "A = np.array([[56.0, 0.0, 4.4, 68.0],\n",
    "             [1.2, 104.0, 52.0, 8.0],\n",
    "             [1.8, 135.0, 99.0, 0.9]])\n",
    "\n",
    "A"
   ]
  },
  {
   "cell_type": "code",
   "execution_count": 3,
   "id": "e4d50017-ee24-44a6-9938-c7c0df53bb68",
   "metadata": {},
   "outputs": [
    {
     "name": "stdout",
     "output_type": "stream",
     "text": [
      "[[ 56.    0.    4.4  68. ]\n",
      " [  1.2 104.   52.    8. ]\n",
      " [  1.8 135.   99.    0.9]]\n"
     ]
    }
   ],
   "source": [
    "print(A)"
   ]
  },
  {
   "cell_type": "code",
   "execution_count": 4,
   "id": "a7dab46b-9973-474d-92d1-3cbfce6a68fd",
   "metadata": {},
   "outputs": [
    {
     "data": {
      "text/plain": [
       "(3, 4)"
      ]
     },
     "execution_count": 4,
     "metadata": {},
     "output_type": "execute_result"
    }
   ],
   "source": [
    "A.shape"
   ]
  },
  {
   "cell_type": "code",
   "execution_count": 5,
   "id": "d266f1cc-5e9e-4bdf-b290-9de5dbf4fc59",
   "metadata": {},
   "outputs": [
    {
     "name": "stdout",
     "output_type": "stream",
     "text": [
      "[ 59.  239.  155.4  76.9]\n"
     ]
    }
   ],
   "source": [
    "calery = A.sum(axis = 0)     # vertical\n",
    "print(calery)"
   ]
  },
  {
   "cell_type": "code",
   "execution_count": 6,
   "id": "a9e8f465-07b5-458e-823c-79e9bc27d199",
   "metadata": {},
   "outputs": [
    {
     "name": "stdout",
     "output_type": "stream",
     "text": [
      "[[94.91525424  0.          2.83140283 88.42652796]\n",
      " [ 2.03389831 43.51464435 33.46203346 10.40312094]\n",
      " [ 3.05084746 56.48535565 63.70656371  1.17035111]]\n"
     ]
    }
   ],
   "source": [
    "percentage = 100 * A / calery.reshape(1, 4)     # Broadcasting of calery from (1, 4) to (3, 4):\n",
    "# [[59.  239.  155.4  76.9]\n",
    "#  [59.  239.  155.4  76.9]\n",
    "#  [59.  239.  155.4  76.9]]\n",
    "print(percentage)"
   ]
  },
  {
   "cell_type": "code",
   "execution_count": 7,
   "id": "18703311-58be-442f-9961-3dd2df70ddda",
   "metadata": {},
   "outputs": [
    {
     "data": {
      "text/plain": [
       "(4,)"
      ]
     },
     "execution_count": 7,
     "metadata": {},
     "output_type": "execute_result"
    }
   ],
   "source": [
    "calery.shape"
   ]
  },
  {
   "cell_type": "code",
   "execution_count": 8,
   "id": "ddb95d1e-bbb6-4147-9e5b-828fee6d2fe7",
   "metadata": {},
   "outputs": [
    {
     "data": {
      "text/plain": [
       "array([ 59. , 239. , 155.4,  76.9])"
      ]
     },
     "execution_count": 8,
     "metadata": {},
     "output_type": "execute_result"
    }
   ],
   "source": [
    "calery"
   ]
  },
  {
   "cell_type": "code",
   "execution_count": 14,
   "id": "75378e79-8d5a-44ab-ad54-a7750aa2d22c",
   "metadata": {},
   "outputs": [],
   "source": [
    "calery = calery.reshape(1, 4)"
   ]
  },
  {
   "cell_type": "code",
   "execution_count": 15,
   "id": "f5091226-f322-4697-adfb-f523c8a06ee9",
   "metadata": {},
   "outputs": [
    {
     "data": {
      "text/plain": [
       "(1, 4)"
      ]
     },
     "execution_count": 15,
     "metadata": {},
     "output_type": "execute_result"
    }
   ],
   "source": [
    "calery.shape"
   ]
  },
  {
   "cell_type": "code",
   "execution_count": 16,
   "id": "c2934766-fa97-40b4-91d1-44e315de9e5d",
   "metadata": {},
   "outputs": [
    {
     "data": {
      "text/plain": [
       "array([[ 59. , 239. , 155.4,  76.9]])"
      ]
     },
     "execution_count": 16,
     "metadata": {},
     "output_type": "execute_result"
    }
   ],
   "source": [
    "calery"
   ]
  },
  {
   "cell_type": "code",
   "execution_count": null,
   "id": "84f32fe7-3fff-4791-9e51-fc07ae43a7ea",
   "metadata": {},
   "outputs": [],
   "source": []
  }
 ],
 "metadata": {
  "kernelspec": {
   "display_name": "Python 3 (ipykernel)",
   "language": "python",
   "name": "python3"
  },
  "language_info": {
   "codemirror_mode": {
    "name": "ipython",
    "version": 3
   },
   "file_extension": ".py",
   "mimetype": "text/x-python",
   "name": "python",
   "nbconvert_exporter": "python",
   "pygments_lexer": "ipython3",
   "version": "3.11.5"
  }
 },
 "nbformat": 4,
 "nbformat_minor": 5
}
