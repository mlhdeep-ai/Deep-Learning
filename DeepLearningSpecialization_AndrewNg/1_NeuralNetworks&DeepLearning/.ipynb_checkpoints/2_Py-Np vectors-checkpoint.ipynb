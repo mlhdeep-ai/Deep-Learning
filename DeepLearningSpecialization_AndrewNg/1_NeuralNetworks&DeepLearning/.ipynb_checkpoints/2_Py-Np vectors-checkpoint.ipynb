{
 "cells": [
  {
   "cell_type": "markdown",
   "id": "8bdc24bd-066a-473a-967e-f714218bdfab",
   "metadata": {},
   "source": [
    "## Python-Numpy vectors"
   ]
  },
  {
   "cell_type": "code",
   "execution_count": 46,
   "id": "3fc4bc42-f2bc-4b16-ab4f-7e5bcce8418a",
   "metadata": {},
   "outputs": [],
   "source": [
    "import numpy as np"
   ]
  },
  {
   "cell_type": "markdown",
   "id": "7b91f1b2-e217-4722-b60d-ea8ce3e07d76",
   "metadata": {},
   "source": [
    "### This isn't row/column Vector ==> Don't use this!"
   ]
  },
  {
   "cell_type": "code",
   "execution_count": 47,
   "id": "8d62d2a4-528e-4193-8f86-7b4d496e22ba",
   "metadata": {},
   "outputs": [],
   "source": [
    "a = np.random.randn(5)    "
   ]
  },
  {
   "cell_type": "code",
   "execution_count": 48,
   "id": "0bd1b5ae-9986-4d77-a8e2-f01ea4104d7d",
   "metadata": {},
   "outputs": [
    {
     "data": {
      "text/plain": [
       "array([ 0.92815698,  0.04283011,  2.55005947, -1.97575245,  0.61445913])"
      ]
     },
     "execution_count": 48,
     "metadata": {},
     "output_type": "execute_result"
    }
   ],
   "source": [
    "a"
   ]
  },
  {
   "cell_type": "code",
   "execution_count": 49,
   "id": "d35c53d5-2954-4bc4-be1f-8bb686afeaae",
   "metadata": {},
   "outputs": [
    {
     "data": {
      "text/plain": [
       "(5,)"
      ]
     },
     "execution_count": 49,
     "metadata": {},
     "output_type": "execute_result"
    }
   ],
   "source": [
    "a.shape     # rank of Array "
   ]
  },
  {
   "cell_type": "code",
   "execution_count": 50,
   "id": "b64bac58-9522-4589-afd4-6a1f049cfa84",
   "metadata": {},
   "outputs": [
    {
     "name": "stdout",
     "output_type": "stream",
     "text": [
      "[ 0.92815698  0.04283011  2.55005947 -1.97575245  0.61445913]\n"
     ]
    }
   ],
   "source": [
    "print(a)"
   ]
  },
  {
   "cell_type": "code",
   "execution_count": 51,
   "id": "246115da-3d81-4afc-b63c-b9545831b6ec",
   "metadata": {},
   "outputs": [
    {
     "data": {
      "text/plain": [
       "numpy.ndarray"
      ]
     },
     "execution_count": 51,
     "metadata": {},
     "output_type": "execute_result"
    }
   ],
   "source": [
    "type(a)"
   ]
  },
  {
   "cell_type": "code",
   "execution_count": 52,
   "id": "e6be3655-3286-4858-ac0b-0b54f9d66899",
   "metadata": {},
   "outputs": [],
   "source": [
    "a_t = a.T     # Transpose of the array"
   ]
  },
  {
   "cell_type": "code",
   "execution_count": 53,
   "id": "5fd34ca5-1d4e-4f09-af4d-d437030d157f",
   "metadata": {},
   "outputs": [
    {
     "name": "stdout",
     "output_type": "stream",
     "text": [
      "[ 0.92815698  0.04283011  2.55005947 -1.97575245  0.61445913]\n"
     ]
    }
   ],
   "source": [
    "print(a_t)     # a_t = a"
   ]
  },
  {
   "cell_type": "code",
   "execution_count": 54,
   "id": "4017a84d-4a82-4896-af2f-2c9aa8e1bb80",
   "metadata": {},
   "outputs": [
    {
     "data": {
      "text/plain": [
       "(5,)"
      ]
     },
     "execution_count": 54,
     "metadata": {},
     "output_type": "execute_result"
    }
   ],
   "source": [
    "a_t.shape"
   ]
  },
  {
   "cell_type": "code",
   "execution_count": 55,
   "id": "59bf8019-99b1-43ca-83b1-1f22bd36cd27",
   "metadata": {},
   "outputs": [
    {
     "data": {
      "text/plain": [
       "11.64727084020657"
      ]
     },
     "execution_count": 55,
     "metadata": {},
     "output_type": "execute_result"
    }
   ],
   "source": [
    "np.dot(a, a_t)"
   ]
  },
  {
   "cell_type": "markdown",
   "id": "026647b8-dc11-4578-93a9-2f1b88c351b7",
   "metadata": {},
   "source": [
    "## This is a Matrix  ==> Use this!"
   ]
  },
  {
   "cell_type": "code",
   "execution_count": 56,
   "id": "df578741-f5f5-4684-846e-c9eb03b75b92",
   "metadata": {},
   "outputs": [
    {
     "data": {
      "text/plain": [
       "array([[ 1.1918701 ],\n",
       "       [ 0.53994532],\n",
       "       [-0.49358341],\n",
       "       [ 0.69289256],\n",
       "       [ 0.12787995]])"
      ]
     },
     "execution_count": 56,
     "metadata": {},
     "output_type": "execute_result"
    }
   ],
   "source": [
    "vc = np.random.randn(5, 1)     \n",
    "vc"
   ]
  },
  {
   "cell_type": "code",
   "execution_count": 57,
   "id": "7f114847-cb22-4c97-9d04-7a4b6a95e8fe",
   "metadata": {},
   "outputs": [
    {
     "name": "stdout",
     "output_type": "stream",
     "text": [
      "[[ 1.1918701 ]\n",
      " [ 0.53994532]\n",
      " [-0.49358341]\n",
      " [ 0.69289256]\n",
      " [ 0.12787995]]\n"
     ]
    }
   ],
   "source": [
    "print(vc)"
   ]
  },
  {
   "cell_type": "code",
   "execution_count": 58,
   "id": "072ee4f7-7d37-4fef-8d43-a8ee39395d19",
   "metadata": {},
   "outputs": [
    {
     "data": {
      "text/plain": [
       "(5, 1)"
      ]
     },
     "execution_count": 58,
     "metadata": {},
     "output_type": "execute_result"
    }
   ],
   "source": [
    "vc.shape     "
   ]
  },
  {
   "cell_type": "code",
   "execution_count": 59,
   "id": "f8c3a605-f58d-4123-8c36-9cee440cab78",
   "metadata": {},
   "outputs": [
    {
     "data": {
      "text/plain": [
       "array([[ 1.1918701 ,  0.53994532, -0.49358341,  0.69289256,  0.12787995]])"
      ]
     },
     "execution_count": 59,
     "metadata": {},
     "output_type": "execute_result"
    }
   ],
   "source": [
    "vc_t = vc.T\n",
    "vc_t"
   ]
  },
  {
   "cell_type": "code",
   "execution_count": 60,
   "id": "e209a948-7622-4063-92cf-c5d62ad85ae5",
   "metadata": {},
   "outputs": [
    {
     "name": "stdout",
     "output_type": "stream",
     "text": [
      "[[ 1.1918701   0.53994532 -0.49358341  0.69289256  0.12787995]]\n"
     ]
    }
   ],
   "source": [
    "print(vc_t)"
   ]
  },
  {
   "cell_type": "code",
   "execution_count": 61,
   "id": "0885e176-5b97-4997-b93c-65581c6b3e0f",
   "metadata": {},
   "outputs": [
    {
     "data": {
      "text/plain": [
       "(1, 5)"
      ]
     },
     "execution_count": 61,
     "metadata": {},
     "output_type": "execute_result"
    }
   ],
   "source": [
    "vc_t.shape"
   ]
  },
  {
   "cell_type": "code",
   "execution_count": 62,
   "id": "9e0bc451-cdb9-4fbb-a9bb-da811a7cbf4d",
   "metadata": {},
   "outputs": [
    {
     "name": "stdout",
     "output_type": "stream",
     "text": [
      "[[ 2.11266294  0.05421313 -0.97120008  0.81872999 -0.76782615]]\n"
     ]
    }
   ],
   "source": [
    "vr = np.random.randn(1, 5)\n",
    "print(vr)"
   ]
  },
  {
   "cell_type": "code",
   "execution_count": 63,
   "id": "10710c1d-fef5-4ae2-b148-7d1094a67e62",
   "metadata": {},
   "outputs": [
    {
     "data": {
      "text/plain": [
       "(1, 5)"
      ]
     },
     "execution_count": 63,
     "metadata": {},
     "output_type": "execute_result"
    }
   ],
   "source": [
    "vr.shape"
   ]
  },
  {
   "cell_type": "code",
   "execution_count": 64,
   "id": "ec48331b-8182-4864-ad55-8996ab2f0012",
   "metadata": {},
   "outputs": [
    {
     "name": "stdout",
     "output_type": "stream",
     "text": [
      "Type of a: <class 'numpy.ndarray'>\n",
      "Shape of a: (5,)\n"
     ]
    }
   ],
   "source": [
    "print(\"Type of a:\", type(a))\n",
    "print(\"Shape of a:\", a.shape)"
   ]
  },
  {
   "cell_type": "code",
   "execution_count": 65,
   "id": "572ac9d7-1def-4a0d-9a83-7bfd6d7725a7",
   "metadata": {},
   "outputs": [
    {
     "name": "stdout",
     "output_type": "stream",
     "text": [
      "Type of vc: <class 'numpy.ndarray'>\n",
      "Shape of vc: (5, 1)\n"
     ]
    }
   ],
   "source": [
    "print(\"Type of vc:\", type(vc))\n",
    "print(\"Shape of vc:\", vc.shape)"
   ]
  },
  {
   "cell_type": "code",
   "execution_count": 66,
   "id": "c99554f5-5620-4ad1-9e2b-e631c3921182",
   "metadata": {},
   "outputs": [
    {
     "name": "stdout",
     "output_type": "stream",
     "text": [
      "Type of vr: <class 'numpy.ndarray'>\n",
      "Shape of vr: (1, 5)\n"
     ]
    }
   ],
   "source": [
    "print(\"Type of vr:\", type(vr))\n",
    "print(\"Shape of vr:\", vr.shape)"
   ]
  },
  {
   "cell_type": "code",
   "execution_count": 67,
   "id": "540af69e-df31-4825-a12b-614f53eb5d66",
   "metadata": {},
   "outputs": [
    {
     "name": "stdout",
     "output_type": "stream",
     "text": [
      "[[ 1.42055434  0.64354469 -0.58828731  0.82583793  0.15241629]\n",
      " [ 0.64354469  0.29154095 -0.26650806  0.3741241   0.06904818]\n",
      " [-0.58828731 -0.26650806  0.24362459 -0.34200028 -0.06311942]\n",
      " [ 0.82583793  0.3741241  -0.34200028  0.4801001   0.08860707]\n",
      " [ 0.15241629  0.06904818 -0.06311942  0.08860707  0.01635328]]\n"
     ]
    }
   ],
   "source": [
    "p = np.dot(vc, vc.T)\n",
    "print(p)"
   ]
  },
  {
   "cell_type": "code",
   "execution_count": 68,
   "id": "9dae5458-2f5c-4b3e-a776-e452c68ee0f5",
   "metadata": {},
   "outputs": [
    {
     "data": {
      "text/plain": [
       "numpy.ndarray"
      ]
     },
     "execution_count": 68,
     "metadata": {},
     "output_type": "execute_result"
    }
   ],
   "source": [
    "type(p)"
   ]
  },
  {
   "cell_type": "code",
   "execution_count": 69,
   "id": "3c0e445f-5bef-430a-80e1-a8ff70bfd582",
   "metadata": {},
   "outputs": [
    {
     "data": {
      "text/plain": [
       "(5, 5)"
      ]
     },
     "execution_count": 69,
     "metadata": {},
     "output_type": "execute_result"
    }
   ],
   "source": [
    "p.shape"
   ]
  },
  {
   "cell_type": "markdown",
   "id": "8379dae7-9ed7-457b-8a44-3dba78e6a833",
   "metadata": {},
   "source": [
    "### Ensure dimension (Assert)"
   ]
  },
  {
   "cell_type": "code",
   "execution_count": 70,
   "id": "9dfe6801-302e-4c9f-b6d3-eed75f2fe022",
   "metadata": {},
   "outputs": [
    {
     "name": "stdout",
     "output_type": "stream",
     "text": [
      "False\n"
     ]
    }
   ],
   "source": [
    "print(a.shape == (5, 1))"
   ]
  },
  {
   "cell_type": "code",
   "execution_count": 71,
   "id": "a9937edd-db24-4312-aaee-cb4813cefc3f",
   "metadata": {},
   "outputs": [
    {
     "name": "stdout",
     "output_type": "stream",
     "text": [
      "True\n"
     ]
    }
   ],
   "source": [
    "print(vc.shape == (5, 1))"
   ]
  },
  {
   "cell_type": "code",
   "execution_count": 72,
   "id": "0032797c-5214-4d90-aab7-b2edcdf45214",
   "metadata": {},
   "outputs": [
    {
     "name": "stdout",
     "output_type": "stream",
     "text": [
      "True\n"
     ]
    }
   ],
   "source": [
    "print(vr.shape == (1, 5))"
   ]
  },
  {
   "cell_type": "markdown",
   "id": "0ce15116-99fc-41c7-83f3-ebb96ee59051",
   "metadata": {},
   "source": [
    "### Reshape of Rank of a Array to a Vector (Matrix)"
   ]
  },
  {
   "cell_type": "code",
   "execution_count": 74,
   "id": "7366526b-59f4-42f7-9195-ef445a51262c",
   "metadata": {},
   "outputs": [
    {
     "data": {
      "text/plain": [
       "(5,)"
      ]
     },
     "execution_count": 74,
     "metadata": {},
     "output_type": "execute_result"
    }
   ],
   "source": [
    "a.shape"
   ]
  },
  {
   "cell_type": "code",
   "execution_count": 75,
   "id": "8525ca17-d83e-43b8-847c-3a50d773d1f4",
   "metadata": {},
   "outputs": [
    {
     "name": "stdout",
     "output_type": "stream",
     "text": [
      "True\n"
     ]
    }
   ],
   "source": [
    "print(a.shape == (5, ))"
   ]
  },
  {
   "cell_type": "code",
   "execution_count": 76,
   "id": "496a6fbb-5d5c-4d27-a10f-3fb2b738ff0d",
   "metadata": {},
   "outputs": [],
   "source": [
    "a = a.reshape(5,1)"
   ]
  },
  {
   "cell_type": "code",
   "execution_count": 77,
   "id": "86297fc9-5ced-456d-b1c5-dbc0ee147538",
   "metadata": {},
   "outputs": [
    {
     "data": {
      "text/plain": [
       "(5, 1)"
      ]
     },
     "execution_count": 77,
     "metadata": {},
     "output_type": "execute_result"
    }
   ],
   "source": [
    "a.shape"
   ]
  },
  {
   "cell_type": "code",
   "execution_count": 78,
   "id": "ace36e5b-02dc-45cc-ab4b-101e258f41bc",
   "metadata": {},
   "outputs": [
    {
     "data": {
      "text/plain": [
       "numpy.ndarray"
      ]
     },
     "execution_count": 78,
     "metadata": {},
     "output_type": "execute_result"
    }
   ],
   "source": [
    "type(a)"
   ]
  },
  {
   "cell_type": "code",
   "execution_count": 79,
   "id": "139d73d3-f50f-435b-8c54-bbacaaecc804",
   "metadata": {},
   "outputs": [
    {
     "name": "stdout",
     "output_type": "stream",
     "text": [
      "True\n"
     ]
    }
   ],
   "source": [
    "print(a.shape == (5, 1))"
   ]
  },
  {
   "cell_type": "code",
   "execution_count": 80,
   "id": "d2e34e13-aa07-42af-bef4-dbc41c7476c5",
   "metadata": {},
   "outputs": [
    {
     "name": "stdout",
     "output_type": "stream",
     "text": [
      "False\n"
     ]
    }
   ],
   "source": [
    "print(a.shape == (5, ))"
   ]
  },
  {
   "cell_type": "code",
   "execution_count": 81,
   "id": "59b198b4-3d79-4530-b1a8-6cddf73d7917",
   "metadata": {},
   "outputs": [
    {
     "name": "stdout",
     "output_type": "stream",
     "text": [
      "False\n"
     ]
    }
   ],
   "source": [
    "print(a.shape == (1, 5))"
   ]
  },
  {
   "cell_type": "code",
   "execution_count": null,
   "id": "600d0d4c-b718-46f2-9173-e8f51728e4f3",
   "metadata": {},
   "outputs": [],
   "source": []
  }
 ],
 "metadata": {
  "kernelspec": {
   "display_name": "Python 3 (ipykernel)",
   "language": "python",
   "name": "python3"
  },
  "language_info": {
   "codemirror_mode": {
    "name": "ipython",
    "version": 3
   },
   "file_extension": ".py",
   "mimetype": "text/x-python",
   "name": "python",
   "nbconvert_exporter": "python",
   "pygments_lexer": "ipython3",
   "version": "3.11.5"
  }
 },
 "nbformat": 4,
 "nbformat_minor": 5
}
