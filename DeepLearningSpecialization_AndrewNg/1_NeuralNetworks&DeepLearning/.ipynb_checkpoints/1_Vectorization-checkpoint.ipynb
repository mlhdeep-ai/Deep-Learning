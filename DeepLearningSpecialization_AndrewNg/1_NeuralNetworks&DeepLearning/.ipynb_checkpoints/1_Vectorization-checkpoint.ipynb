{
 "cells": [
  {
   "cell_type": "markdown",
   "id": "60607515-341b-42a2-8770-2e74a013afd8",
   "metadata": {},
   "source": [
    "# Vectorization "
   ]
  },
  {
   "cell_type": "code",
   "execution_count": 1,
   "id": "adb411f4-cc37-4c38-acac-98ca4e938a64",
   "metadata": {},
   "outputs": [],
   "source": [
    "import numpy as np\n",
    "import math\n",
    "import time"
   ]
  },
  {
   "cell_type": "code",
   "execution_count": 4,
   "id": "4b282a95-2193-4049-98f2-9549013e34ca",
   "metadata": {},
   "outputs": [
    {
     "name": "stdout",
     "output_type": "stream",
     "text": [
      "[1 2 3 4]\n"
     ]
    }
   ],
   "source": [
    "a = np.array([1, 2, 3, 4])\n",
    "print(a)"
   ]
  },
  {
   "cell_type": "code",
   "execution_count": 5,
   "id": "369fdd86-f4a7-4696-a3f1-01b927fe36f2",
   "metadata": {},
   "outputs": [
    {
     "data": {
      "text/plain": [
       "(4,)"
      ]
     },
     "execution_count": 5,
     "metadata": {},
     "output_type": "execute_result"
    }
   ],
   "source": [
    "a.shape"
   ]
  },
  {
   "cell_type": "code",
   "execution_count": 6,
   "id": "96f401aa-fa73-413b-8386-2d93e7978dba",
   "metadata": {},
   "outputs": [],
   "source": []
  },
  {
   "cell_type": "code",
   "execution_count": 8,
   "id": "4cc92a7f-86f2-47c0-8650-8574335da767",
   "metadata": {},
   "outputs": [],
   "source": [
    "nx = 1000000\n",
    "a = np.random.rand(nx)     # It is a nxD array\n",
    "b = np.random.rand(nx)     # It is a nxD array"
   ]
  },
  {
   "cell_type": "code",
   "execution_count": 10,
   "id": "7d8ab0b9-4929-4ed8-9fa2-3951b809b747",
   "metadata": {},
   "outputs": [
    {
     "data": {
      "text/plain": [
       "(1000000,)"
      ]
     },
     "execution_count": 10,
     "metadata": {},
     "output_type": "execute_result"
    }
   ],
   "source": [
    "a.shape"
   ]
  },
  {
   "cell_type": "code",
   "execution_count": 11,
   "id": "ec24b707-d5b1-4fcb-9878-66430037fdf3",
   "metadata": {},
   "outputs": [
    {
     "data": {
      "text/plain": [
       "(1000000,)"
      ]
     },
     "execution_count": 11,
     "metadata": {},
     "output_type": "execute_result"
    }
   ],
   "source": [
    "b.shape"
   ]
  },
  {
   "cell_type": "code",
   "execution_count": 13,
   "id": "b72530ff-ab92-49e2-b531-6cfc2a5d123b",
   "metadata": {},
   "outputs": [
    {
     "name": "stdout",
     "output_type": "stream",
     "text": [
      "c: 250281.17024693455\n",
      "Non_vectorized version: 2021.2981700897217ms\n",
      "c: 250281.17024694267\n",
      "Vectorized version: 8.03375244140625ms\n"
     ]
    }
   ],
   "source": [
    "# Exampe 01\n",
    "\n",
    "# Non_vectorized implementation\n",
    "c = 0\n",
    "tic = time.time()\n",
    "for i in range(nx):\n",
    "    c += a[i] * b[i]\n",
    "toc = time.time()\n",
    "print(\"c:\", c)\n",
    "print(\"Non_vectorized version: \" + str(1000 * (toc - tic)) + \" ms\")\n",
    "\n",
    "tic = time.time()     # current time (Befor calculate c (Regression Logistic))\n",
    "# Vectorized implementation\n",
    "c =  np.dot(a, b)\n",
    "toc = time.time()     # current time (After calculate c (Regression Logistic))\n",
    "print(\"c:\", c)\n",
    "print(\"Vectorized version: \" + str(1000 * (toc - tic)) + \" ms\")\n",
    "\n",
    "# Result: in the \"Vectorized\" implementation, the code was executed speed be 300 times faster"
   ]
  },
  {
   "cell_type": "markdown",
   "id": "5dc3a000-5e58-4dc8-ae8b-52dc90e09b27",
   "metadata": {},
   "source": [
    "### Numpy dot() function:\n",
    "In Python NumPy dot() function is used to compute dot products of two given arrays. It accepts two arrays as arguments and calculates their dot product.\n",
    "It can handle 2-D arrays but considers them as matrices and will perform matrix multiplication"
   ]
  },
  {
   "cell_type": "code",
   "execution_count": 62,
   "id": "89ce42a1-01c4-4b19-959a-d767b3564226",
   "metadata": {},
   "outputs": [
    {
     "name": "stdout",
     "output_type": "stream",
     "text": [
      "Non-vectorized version:7118.407249450684 ms\n",
      "\n",
      "Vectorized versoin:63.99869918823242 ms\n"
     ]
    }
   ],
   "source": [
    "# Example 02\n",
    "\n",
    "# Non-vectorizes implementation\n",
    "nv = 1000000\n",
    "v = np.random.randint(1, 10, nv)     # It is a nxD array\n",
    "# print(\"v:\", v)\n",
    "u = np.zeros((nv, 1))\n",
    "# print(\"u:\", u)\n",
    "tic = time.time()\n",
    "for i in range (nv):\n",
    "    u[i] = math.exp(v[i])\n",
    "# print(\"u:\", u)\n",
    "# print(\"u.shape:\", u.shape)\n",
    "toc = time.time()\n",
    "print(\"Non-Vectorized version:\"+ str(1000 * (toc - tic)) + \" ms\")\n",
    "print()\n",
    "\n",
    "# Vectorizes implementation\n",
    "tic = time.time()\n",
    "u = np.exp(v)\n",
    "toc = time.time()\n",
    "# print(\"u:\", u)\n",
    "# print(\"u.shape:\", u.shape)\n",
    "print(\"Vectorized versoin:\" + str(1000 * (toc - tic)) + \" ms\")"
   ]
  },
  {
   "cell_type": "code",
   "execution_count": 74,
   "id": "063578d2-1fa9-486e-9f42-f3b689929832",
   "metadata": {},
   "outputs": [
    {
     "name": "stdout",
     "output_type": "stream",
     "text": [
      "v1: [9 4 6 7 6]\n",
      "v2: [ 8 -2 -2 -7  0]\n"
     ]
    }
   ],
   "source": [
    "v1 = np.random.randint(1, 10, 5)\n",
    "v2 = np.random.randint(-10, 10, 5)\n",
    "print(\"v1:\", v1)\n",
    "print(\"v2:\", v2)"
   ]
  },
  {
   "cell_type": "code",
   "execution_count": 77,
   "id": "d7517d55-8a68-4e57-9fd3-1a9d8c7a7ab4",
   "metadata": {},
   "outputs": [
    {
     "name": "stdout",
     "output_type": "stream",
     "text": [
      "np.log(v): [2.19722458 1.38629436 1.79175947 1.94591015 1.79175947]\n",
      "np.abs(v): [8 2 2 7 0]\n",
      "np.maximum(v, 0): [8 0 0 0 0]\n",
      "v ** 2: [64  4  4 49  0]\n",
      "1 / v: [0.11111111 0.25       0.16666667 0.14285714 0.16666667]\n"
     ]
    }
   ],
   "source": [
    "print(\"np.log(v):\", np.log(v1))\n",
    "print(\"np.abs(v):\", np.abs(v2))\n",
    "print(\"np.maximum(v, 0):\", np.maximum(v2, 0))\n",
    "print(\"v ** 2:\", v2 ** 2)\n",
    "print(\"1 / v:\", 1 / v1)"
   ]
  },
  {
   "cell_type": "code",
   "execution_count": null,
   "id": "6229a1da-036b-41a5-8b1a-e10910e82628",
   "metadata": {},
   "outputs": [],
   "source": []
  }
 ],
 "metadata": {
  "kernelspec": {
   "display_name": "Python 3 (ipykernel)",
   "language": "python",
   "name": "python3"
  },
  "language_info": {
   "codemirror_mode": {
    "name": "ipython",
    "version": 3
   },
   "file_extension": ".py",
   "mimetype": "text/x-python",
   "name": "python",
   "nbconvert_exporter": "python",
   "pygments_lexer": "ipython3",
   "version": "3.11.5"
  }
 },
 "nbformat": 4,
 "nbformat_minor": 5
}
